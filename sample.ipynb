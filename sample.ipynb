{
 "cells": [
  {
   "cell_type": "code",
   "execution_count": null,
   "metadata": {},
   "outputs": [],
   "source": [
    "from mcp_persor.persor import BVHparser\n",
    "from mcp_persor.plot import plot\n"
   ]
  },
  {
   "cell_type": "code",
   "execution_count": null,
   "metadata": {},
   "outputs": [],
   "source": [
    "bvhp = BVHparser('bvh/mocopi-move.bvh')\n",
    "motion_df = bvhp.get_motion_df()\n"
   ]
  },
  {
   "cell_type": "code",
   "execution_count": null,
   "metadata": {},
   "outputs": [],
   "source": [
    "joint_name = 'root'\n",
    "relative_motion_df = bvhp.get_joint_motion_df(joint_name, mode='relative')\n",
    "absolute_motion_df = bvhp.get_joint_motion_df(joint_name, mode='absolute')\n"
   ]
  },
  {
   "cell_type": "code",
   "execution_count": null,
   "metadata": {},
   "outputs": [],
   "source": [
    "bvhp.to_bvh()\n"
   ]
  },
  {
   "cell_type": "code",
   "execution_count": null,
   "metadata": {},
   "outputs": [],
   "source": [
    "xlim = (0, 50)\n",
    "ylim = (0, 0)\n",
    "\n",
    "plot(\n",
    "    df=relative_motion_df,\n",
    "    heads=[\n",
    "        ['time', 'Xposition'],\n",
    "        ['time', 'Yposition'],\n",
    "        ['time', 'Zposition']\n",
    "    ],\n",
    "    title=f'相対的な {joint_name} の位置',\n",
    "    xlabel='time [s]',\n",
    "    ylabel='rotation [deg]',\n",
    "    xlim=xlim,\n",
    "    ylim=ylim,\n",
    "    grid=True,\n",
    ")\n",
    "\n",
    "plot(\n",
    "    df=relative_motion_df,\n",
    "    heads=[\n",
    "        ['time', 'Xrotation'],\n",
    "        ['time', 'Yrotation'],\n",
    "        ['time', 'Zrotation']\n",
    "    ],\n",
    "    title=f'相対的な {joint_name} の回転',\n",
    "    xlabel='time [s]',\n",
    "    ylabel='rotation [deg]',\n",
    "    xlim=xlim,\n",
    "    ylim=ylim,\n",
    "    grid=True,\n",
    ")\n",
    "\n",
    "plot(\n",
    "    df=absolute_motion_df,\n",
    "    heads=[\n",
    "        ['time', 'Xposition'],\n",
    "        ['time', 'Yposition'],\n",
    "        ['time', 'Zposition']\n",
    "    ],\n",
    "    title=f'絶対的な {joint_name} の位置',\n",
    "    xlabel='time [s]',\n",
    "    ylabel='rotation [deg]',\n",
    "    xlim=xlim,\n",
    "    ylim=ylim,\n",
    "    grid=True,\n",
    ")\n",
    "\n",
    "plot(\n",
    "    df=absolute_motion_df,\n",
    "    heads=[\n",
    "        ['time', 'Xrotation'],\n",
    "        ['time', 'Yrotation'],\n",
    "        ['time', 'Zrotation']\n",
    "    ],\n",
    "    title=f'絶対的な {joint_name} の回転',\n",
    "    xlabel='time [s]',\n",
    "    ylabel='rotation [deg]',\n",
    "    xlim=xlim,\n",
    "    ylim=ylim,\n",
    "    grid=True,\n",
    ")\n"
   ]
  }
 ],
 "metadata": {
  "kernelspec": {
   "display_name": "Python 3",
   "language": "python",
   "name": "python3"
  },
  "language_info": {
   "codemirror_mode": {
    "name": "ipython",
    "version": 3
   },
   "file_extension": ".py",
   "mimetype": "text/x-python",
   "name": "python",
   "nbconvert_exporter": "python",
   "pygments_lexer": "ipython3",
   "version": "3.10.12"
  }
 },
 "nbformat": 4,
 "nbformat_minor": 2
}
